{
 "cells": [
  {
   "cell_type": "code",
   "execution_count": 1,
   "metadata": {
    "editable": true
   },
   "outputs": [],
   "source": [
    "import configparser\n",
    "from datetime import datetime\n",
    "import os\n",
    "from pyspark.sql import SparkSession"
   ]
  },
  {
   "cell_type": "code",
   "execution_count": 2,
   "metadata": {
    "editable": true
   },
   "outputs": [],
   "source": [
    "config = configparser.ConfigParser()\n",
    "config.read('dl.cfg')\n",
    "\n",
    "os.environ['AWS_ACCESS_KEY_ID']=config['AWS']['AWS_ACCESS_KEY_ID']\n",
    "os.environ['AWS_SECRET_ACCESS_KEY']=config['AWS']['AWS_SECRET_ACCESS_KEY']"
   ]
  },
  {
   "cell_type": "code",
   "execution_count": 3,
   "metadata": {
    "editable": true
   },
   "outputs": [],
   "source": [
    "spark = SparkSession \\\n",
    "    .builder \\\n",
    "    .config(\"spark.jars.packages\", \"org.apache.hadoop:hadoop-aws:2.7.0\") \\\n",
    "    .getOrCreate()"
   ]
  },
  {
   "cell_type": "code",
   "execution_count": 4,
   "metadata": {
    "editable": true
   },
   "outputs": [],
   "source": [
    "df = spark.read.load('s3a://<YOUR_BUCKET>/songplays.parquet', format='parquet')"
   ]
  },
  {
   "cell_type": "code",
   "execution_count": 7,
   "metadata": {
    "editable": true
   },
   "outputs": [
    {
     "name": "stdout",
     "output_type": "stream",
     "text": [
      "+-------------------+-------+-----+------------------+------------------+--------------------+----------+--------------------+\n",
      "|         start_time|user_id|level|           song_id|         artist_id|            location|session_id|          user_agent|\n",
      "+-------------------+-------+-----+------------------+------------------+--------------------+----------+--------------------+\n",
      "|2018-11-15 05:54:08|     80| paid|SOWIIJD12A6D4FCAF0|ARFJ3CE1187B99612E|Portland-South Po...|       602|\"Mozilla/5.0 (Mac...|\n",
      "|2018-11-15 05:54:08|     80| paid|SOBEUMD12AB018A9BC|ARU9OUL1187FB39BC1|Portland-South Po...|       602|\"Mozilla/5.0 (Mac...|\n",
      "|2018-11-15 05:54:08|     80| paid|SOZZHYJ12A8C140F50|ARNRA801187FB5587A|Portland-South Po...|       602|\"Mozilla/5.0 (Mac...|\n",
      "|2018-11-15 05:54:08|     80| paid|SORKXUL12AB01821DA|ARX1P2N1187FB59127|Portland-South Po...|       602|\"Mozilla/5.0 (Mac...|\n",
      "|2018-11-15 06:17:36|     80| paid|SOPPOFN12AB01872DA|ARRTT611187B99D82B|Portland-South Po...|       602|\"Mozilla/5.0 (Mac...|\n",
      "+-------------------+-------+-----+------------------+------------------+--------------------+----------+--------------------+\n",
      "only showing top 5 rows\n",
      "\n"
     ]
    }
   ],
   "source": [
    "df.select(\"start_time\",\"user_id\",\"level\",\"song_id\",\"artist_id\",\"location\",\"session_id\",\"user_agent\").show(5)"
   ]
  },
  {
   "cell_type": "code",
   "execution_count": 5,
   "metadata": {
    "editable": true
   },
   "outputs": [
    {
     "name": "stdout",
     "output_type": "stream",
     "text": [
      "root\n",
      " |-- start_time: string (nullable = true)\n",
      " |-- user_id: string (nullable = true)\n",
      " |-- level: string (nullable = true)\n",
      " |-- song_id: string (nullable = true)\n",
      " |-- artist_id: string (nullable = true)\n",
      " |-- session_id: long (nullable = true)\n",
      " |-- location: string (nullable = true)\n",
      " |-- user_agent: string (nullable = true)\n",
      "\n"
     ]
    }
   ],
   "source": [
    "df.printSchema()"
   ]
  },
  {
   "cell_type": "code",
   "execution_count": null,
   "metadata": {
    "editable": true
   },
   "outputs": [],
   "source": []
  }
 ],
 "metadata": {
  "kernelspec": {
   "display_name": "Python 3",
   "language": "python",
   "name": "python3"
  },
  "language_info": {
   "codemirror_mode": {
    "name": "ipython",
    "version": 3
   },
   "file_extension": ".py",
   "mimetype": "text/x-python",
   "name": "python",
   "nbconvert_exporter": "python",
   "pygments_lexer": "ipython3",
   "version": "3.6.3"
  }
 },
 "nbformat": 4,
 "nbformat_minor": 4
}